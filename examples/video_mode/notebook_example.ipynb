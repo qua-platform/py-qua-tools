{
 "cells": [
  {
   "cell_type": "code",
   "execution_count": 2,
   "metadata": {},
   "outputs": [
    {
     "name": "stdout",
     "output_type": "stream",
     "text": [
      "2023-12-11 18:41:51,803 - qm - INFO     - Starting session: b1513fbb-fb34-4a3b-b991-d84bd3983780\n"
     ]
    }
   ],
   "source": [
    "from matplotlib import pyplot as plt\n",
    "from qm.qua import *\n",
    "from qm import QuantumMachinesManager\n",
    "from qualang_tools.results import fetching_tool\n",
    "from configuration import *\n",
    "from qualang_tools.video_mode import VideoMode"
   ]
  },
  {
   "cell_type": "code",
   "execution_count": 1,
   "metadata": {},
   "outputs": [
    {
     "name": "stdout",
     "output_type": "stream",
     "text": [
      "Using matplotlib backend: TkAgg\n"
     ]
    }
   ],
   "source": [
    "import matplotlib\n",
    "%matplotlib"
   ]
  },
  {
   "cell_type": "code",
   "execution_count": null,
   "metadata": {},
   "outputs": [
    {
     "name": "stdout",
     "output_type": "stream",
     "text": [
      "2023-12-11 18:41:54,116 - qm - INFO     - Performing health check\n",
      "2023-12-11 18:41:54,358 - qm - INFO     - Health check passed\n",
      "2023-12-11 18:41:55,047 - qm - INFO     - Sending program to QOP for compilation\n",
      "2023-12-11 18:41:55,496 - qm - INFO     - Executing program\n",
      "start\n",
      "List of implemented commands: \n",
      " get: returns the current value of the parameters. \n",
      " stop: quit VideoMode. \n",
      " done: resume program (if pause_program==True). \n",
      " help: displays the list of available commands. \n",
      " 'param_name'='param_value': sets the parameter to the specified value (ex: V1=0.152).\n",
      " 'param_name': returns the value of the parameter.\n",
      "\n",
      "dc_offset_1: 0.0, dc_offset_2: 0.0, \n"
     ]
    },
    {
     "name": "stdin",
     "output_type": "stream",
     "text": [
      "Enter a command (type help for getting the list of available commands):  get\n"
     ]
    },
    {
     "name": "stdout",
     "output_type": "stream",
     "text": [
      "dc_offset_1: 0.0, dc_offset_2: 0.0, \n"
     ]
    },
    {
     "name": "stdin",
     "output_type": "stream",
     "text": [
      "Enter a command (type help for getting the list of available commands):  dc_offset_1=0.2\n",
      "Enter a command (type help for getting the list of available commands):  dc_offset_2=0.2\n",
      "Enter a command (type help for getting the list of available commands):  dc_offset_2=-0.2\n",
      "Enter a command (type help for getting the list of available commands):  dc_offset_2\n"
     ]
    },
    {
     "name": "stdout",
     "output_type": "stream",
     "text": [
      "-0.2\n"
     ]
    }
   ],
   "source": [
    "\n",
    "def qua_prog(video_mode: VideoMode):\n",
    "    with program() as prog:\n",
    "        # Results variables\n",
    "        single_shot_1 = declare(fixed)\n",
    "        single_shot_2 = declare(fixed)\n",
    "        # Get the parameters from the video mode\n",
    "        dc_offset_1, dc_offset_2 = video_mode.declare_variables()\n",
    "        # Streams\n",
    "        signal1_st = declare_stream()\n",
    "        signal2_st = declare_stream()\n",
    "\n",
    "        with infinite_loop_():\n",
    "            # Update the parameters\n",
    "            video_mode.load_parameters()\n",
    "            # Update the dc_offset of the channel connected to the OPX analog input 1\n",
    "            set_dc_offset(\"filter_cavity_1\", \"single\", dc_offset_1)\n",
    "            set_dc_offset(\"filter_cavity_2\", \"single\", dc_offset_2)\n",
    "            # Measure and integrate the signal received by the OPX\n",
    "            measure(\n",
    "                \"readout\",\n",
    "                \"detector_DC\",\n",
    "                None,\n",
    "                integration.full(\"constant\", single_shot_1, \"out1\"),\n",
    "                integration.full(\"constant\", single_shot_2, \"out2\"),\n",
    "            )\n",
    "            # Save the measured value to its stream\n",
    "            save(single_shot_1, signal1_st)\n",
    "            save(single_shot_2, signal2_st)\n",
    "            # Wait between each iteration\n",
    "            wait(1000)\n",
    "\n",
    "        with stream_processing():\n",
    "            signal1_st.buffer(1000).save(\"signal1\")\n",
    "            signal2_st.buffer(1000).save(\"signal2\")\n",
    "    return prog\n",
    "\n",
    "\n",
    "if __name__ == \"__main__\":\n",
    "    # Open the Quantum Machine Manager\n",
    "    qmm = QuantumMachinesManager(qop_ip, cluster_name=cluster_name)\n",
    "    # Open the Quantum Machine\n",
    "    qm = qmm.open_qm(config)\n",
    "    # Define the parameters to be updated in video mode with their initial value\n",
    "    param_dict = {\n",
    "        \"dc_offset_1\": (0.0, fixed),\n",
    "        \"dc_offset_2\": (0.0, fixed)\n",
    "    }\n",
    "    # Initialize the video mode\n",
    "    video_mode = VideoMode(qm, param_dict)\n",
    "    # Get the QUA program\n",
    "    prog = qua_prog(video_mode)\n",
    "    # Execute the QUA program in video mode\n",
    "    job = video_mode.execute(prog)\n",
    "    # Get the results from the OPX in live mode\n",
    "    results = fetching_tool(job, [\"signal1\", \"signal2\"], mode=\"live\")\n",
    "    # Live plotting\n",
    "    fig = plt.figure()\n",
    "    while results.is_processing():\n",
    "        # Fetch data from the OPX\n",
    "        signal1, signal2 = results.fetch_all()\n",
    "        # Convert the data into Volt\n",
    "        signal1 = -signal1 * 2**12 / readout_len\n",
    "        signal2 = -signal2 * 2**12 / readout_len\n",
    "        # Plot the data\n",
    "        plt.cla()\n",
    "        plt.plot(signal1, \"b-\")\n",
    "        plt.plot(signal2, \"r-\")\n",
    "        plt.title(\"Error signal [a.u.]\")\n",
    "        plt.xlabel(\"Time [μs]\")\n",
    "        plt.ylabel(\"Amplitude Error [arb. units]\")\n",
    "        plt.ylim((-0.5, 0.5))\n",
    "        plt.pause(0.1)\n"
   ]
  },
  {
   "cell_type": "code",
   "execution_count": null,
   "metadata": {},
   "outputs": [],
   "source": []
  }
 ],
 "metadata": {
  "kernelspec": {
   "display_name": "Python 3 (ipykernel)",
   "language": "python",
   "name": "python3"
  },
  "language_info": {
   "codemirror_mode": {
    "name": "ipython",
    "version": 3
   },
   "file_extension": ".py",
   "mimetype": "text/x-python",
   "name": "python",
   "nbconvert_exporter": "python",
   "pygments_lexer": "ipython3",
   "version": "3.10.0"
  }
 },
 "nbformat": 4,
 "nbformat_minor": 4
}
